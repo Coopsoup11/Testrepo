{
  "metadata": {
    "language_info": {
      "codemirror_mode": {
        "name": "python",
        "version": 3
      },
      "file_extension": ".py",
      "mimetype": "text/x-python",
      "name": "python",
      "nbconvert_exporter": "python",
      "pygments_lexer": "ipython3",
      "version": "3.8"
    },
    "kernelspec": {
      "name": "python",
      "display_name": "Python (Pyodide)",
      "language": "python"
    }
  },
  "nbformat_minor": 4,
  "nbformat": 4,
  "cells": [
    {
      "cell_type": "markdown",
      "source": "# Data Science Tools and Ecosystem",
      "metadata": {}
    },
    {
      "cell_type": "markdown",
      "source": "## Exercise 3 - Create a markdown cell for an introduction\n\n# Data Science Tools and Ecosystem\nIn this notebook, Data Science Tools and Ecosystem are summarized.\n\n**Objectives**:\n- Popular languages that Data Scientists \n- Commonly used libraries used by Data Scientist \n- Data Science tools \n",
      "metadata": {}
    },
    {
      "cell_type": "markdown",
      "source": "Exercise 4 - Create a markdown cell to list data science languages\n\nSome of the popular languages that Data Scientists use are:\n\n1. R\n\n2. Python\n\n3. SQL\n\n4. C++\n",
      "metadata": {}
    },
    {
      "cell_type": "markdown",
      "source": "## Exercise 5 - Create a markdown cell to list data science languages\n\nSome of the commonly used libraries used by Data Scientists include:\n\n1. NumPy \n1. Keras \n1. Pandas \n1. PyTorch",
      "metadata": {}
    },
    {
      "cell_type": "markdown",
      "source": "## Exercise 6 - Create a markdown cell with a table of Data Science tools\n\n\n|Data Science Tools|\n|----------|\n|Apache Spark| \n| KNIME | \n|TensorFlow|",
      "metadata": {}
    },
    {
      "cell_type": "markdown",
      "source": "## Exercise 7 - Create a markdown cell introducing arithmetic expression examples\n\n\n### Below are a few examples of evaluating arithmetic expressions in Python",
      "metadata": {}
    },
    {
      "cell_type": "code",
      "source": "(3*4)+5\n# This a simple arithmetic expression to mutiply then add integer\n# Result: 17",
      "metadata": {
        "trusted": true
      },
      "execution_count": 31,
      "outputs": [
        {
          "execution_count": 31,
          "output_type": "execute_result",
          "data": {
            "text/plain": "17"
          },
          "metadata": {}
        }
      ]
    },
    {
      "cell_type": "code",
      "source": "200/60\n# This will convert 200 minutes to hours by diving by 60\n\n# Result: 3.3333333333333335 hours",
      "metadata": {
        "trusted": true
      },
      "execution_count": 32,
      "outputs": [
        {
          "execution_count": 32,
          "output_type": "execute_result",
          "data": {
            "text/plain": "3.3333333333333335"
          },
          "metadata": {}
        }
      ]
    },
    {
      "cell_type": "markdown",
      "source": "# Author \nCooper Allwes ",
      "metadata": {}
    },
    {
      "cell_type": "code",
      "source": "",
      "metadata": {},
      "execution_count": null,
      "outputs": []
    }
  ]
}